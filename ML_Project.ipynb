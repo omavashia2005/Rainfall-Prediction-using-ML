{
  "nbformat": 4,
  "nbformat_minor": 0,
  "metadata": {
    "colab": {
      "provenance": [],
      "collapsed_sections": [
        "gbxVCgKVfrBC"
      ]
    },
    "kernelspec": {
      "name": "python3",
      "display_name": "Python 3"
    },
    "language_info": {
      "name": "python"
    }
  },
  "cells": [
    {
      "cell_type": "markdown",
      "source": [
        "# Rainfall Prediction Project\n"
      ],
      "metadata": {
        "id": "xKChdvS3UhQX"
      }
    },
    {
      "cell_type": "markdown",
      "source": [
        "## CSV getter"
      ],
      "metadata": {
        "id": "9uygT7vdYe-U"
      }
    },
    {
      "cell_type": "code",
      "source": [
        "import csv\n",
        "\n",
        "# Open the input text file and read its content\n",
        "with open('usa.txt', 'r') as infile:\n",
        "    data = infile.readlines()\n",
        "\n",
        "# Process the data: Split each line by commas and store in a list\n",
        "processed_data = [line.strip().split(',') for line in data]\n",
        "\n",
        "# Write the processed data to a CSV file\n",
        "with open('output.csv', 'w', newline='') as outfile:\n",
        "    writer = csv.writer(outfile)\n",
        "    writer.writerows(processed_data)\n",
        "\n",
        "print(\"Conversion complete. 'output.csv' is created.\")"
      ],
      "metadata": {
        "colab": {
          "base_uri": "https://localhost:8080/"
        },
        "id": "dz6rTzB5Uyqb",
        "outputId": "41c678ca-73d8-4408-b24e-276ef5b48642"
      },
      "execution_count": 2,
      "outputs": [
        {
          "output_type": "stream",
          "name": "stdout",
          "text": [
            "Conversion complete. 'output.csv' is created.\n"
          ]
        }
      ]
    },
    {
      "cell_type": "markdown",
      "source": [
        "## Data loading\n"
      ],
      "metadata": {
        "id": "waDvTpUGYiGD"
      }
    },
    {
      "cell_type": "code",
      "source": [
        "import pandas as pd\n",
        "df = pd.read_csv('output.csv')"
      ],
      "metadata": {
        "id": "AbWWKsJ8U4Ve"
      },
      "execution_count": 3,
      "outputs": []
    },
    {
      "cell_type": "markdown",
      "source": [
        "Dividing year by month into 4 categories:\n",
        "\n",
        "1. Winter\n",
        "2. Summer\n",
        "3. Monsoon\n",
        "4. Spring\n",
        "\n",
        "\n",
        "This method requires some more refinement to account for correct months being assigned the correct season."
      ],
      "metadata": {
        "id": "f_GmZ9W48SRC"
      }
    },
    {
      "cell_type": "code",
      "source": [
        "df['Date'] = df['Date'].apply(lambda x : str(x))\n",
        "df['Date'] = df['Date'].apply(lambda x : x[5:7])\n",
        "df['Date'] = df['Date'].apply(lambda x : int(x))\n",
        "df['Date'] = 1 + (df['Date'] // 4)\n",
        "df"
      ],
      "metadata": {
        "colab": {
          "base_uri": "https://localhost:8080/",
          "height": 548
        },
        "id": "icwzm9C8XI1P",
        "outputId": "3a0e8f1a-a9b1-4939-d687-ba0f15aad230"
      },
      "execution_count": 4,
      "outputs": [
        {
          "output_type": "execute_result",
          "data": {
            "text/plain": [
              "       Date         Location  Temperature   Humidity  Wind Speed  \\\n",
              "0         1         New York    87.524795  75.655455   28.379506   \n",
              "1         1         New York    83.259325  28.712617   12.436433   \n",
              "2         1         New York    80.943050  64.740043   14.184831   \n",
              "3         1         New York    78.097552  59.738984   19.444029   \n",
              "4         1         New York    37.059963  34.766784    3.689661   \n",
              "...     ...              ...          ...        ...         ...   \n",
              "73095     4  Washington D.C.    40.614393  65.099438   28.778327   \n",
              "73096     4  Washington D.C.    52.641643  30.610525   12.282890   \n",
              "73097     4  Washington D.C.    56.492591  96.740232    2.894762   \n",
              "73098     4  Washington D.C.    65.748956  63.900004   24.632400   \n",
              "73099     4  Washington D.C.    54.648609  80.812021   22.722505   \n",
              "\n",
              "       Precipitation  Cloud Cover     Pressure  Rain Tomorrow  \n",
              "0           0.000000    69.617966  1026.030278              0  \n",
              "1           0.526995    41.606048   995.962065              0  \n",
              "2           0.916884    77.364763   980.796739              1  \n",
              "3           0.094134    52.541196   979.012163              0  \n",
              "4           1.361272    85.584000  1031.790859              0  \n",
              "...              ...          ...          ...            ...  \n",
              "73095       0.000000    54.168514   977.083747              0  \n",
              "73096       0.871000    22.068055   980.591675              0  \n",
              "73097       1.191956    52.336048  1016.469174              1  \n",
              "73098       0.483421    76.785280  1032.396146              1  \n",
              "73099       0.151903    19.674960   974.835534              0  \n",
              "\n",
              "[73100 rows x 9 columns]"
            ],
            "text/html": [
              "\n",
              "  <div id=\"df-dd2a0c63-6c10-49b7-8eaa-2d361527f60b\" class=\"colab-df-container\">\n",
              "    <div>\n",
              "<style scoped>\n",
              "    .dataframe tbody tr th:only-of-type {\n",
              "        vertical-align: middle;\n",
              "    }\n",
              "\n",
              "    .dataframe tbody tr th {\n",
              "        vertical-align: top;\n",
              "    }\n",
              "\n",
              "    .dataframe thead th {\n",
              "        text-align: right;\n",
              "    }\n",
              "</style>\n",
              "<table border=\"1\" class=\"dataframe\">\n",
              "  <thead>\n",
              "    <tr style=\"text-align: right;\">\n",
              "      <th></th>\n",
              "      <th>Date</th>\n",
              "      <th>Location</th>\n",
              "      <th>Temperature</th>\n",
              "      <th>Humidity</th>\n",
              "      <th>Wind Speed</th>\n",
              "      <th>Precipitation</th>\n",
              "      <th>Cloud Cover</th>\n",
              "      <th>Pressure</th>\n",
              "      <th>Rain Tomorrow</th>\n",
              "    </tr>\n",
              "  </thead>\n",
              "  <tbody>\n",
              "    <tr>\n",
              "      <th>0</th>\n",
              "      <td>1</td>\n",
              "      <td>New York</td>\n",
              "      <td>87.524795</td>\n",
              "      <td>75.655455</td>\n",
              "      <td>28.379506</td>\n",
              "      <td>0.000000</td>\n",
              "      <td>69.617966</td>\n",
              "      <td>1026.030278</td>\n",
              "      <td>0</td>\n",
              "    </tr>\n",
              "    <tr>\n",
              "      <th>1</th>\n",
              "      <td>1</td>\n",
              "      <td>New York</td>\n",
              "      <td>83.259325</td>\n",
              "      <td>28.712617</td>\n",
              "      <td>12.436433</td>\n",
              "      <td>0.526995</td>\n",
              "      <td>41.606048</td>\n",
              "      <td>995.962065</td>\n",
              "      <td>0</td>\n",
              "    </tr>\n",
              "    <tr>\n",
              "      <th>2</th>\n",
              "      <td>1</td>\n",
              "      <td>New York</td>\n",
              "      <td>80.943050</td>\n",
              "      <td>64.740043</td>\n",
              "      <td>14.184831</td>\n",
              "      <td>0.916884</td>\n",
              "      <td>77.364763</td>\n",
              "      <td>980.796739</td>\n",
              "      <td>1</td>\n",
              "    </tr>\n",
              "    <tr>\n",
              "      <th>3</th>\n",
              "      <td>1</td>\n",
              "      <td>New York</td>\n",
              "      <td>78.097552</td>\n",
              "      <td>59.738984</td>\n",
              "      <td>19.444029</td>\n",
              "      <td>0.094134</td>\n",
              "      <td>52.541196</td>\n",
              "      <td>979.012163</td>\n",
              "      <td>0</td>\n",
              "    </tr>\n",
              "    <tr>\n",
              "      <th>4</th>\n",
              "      <td>1</td>\n",
              "      <td>New York</td>\n",
              "      <td>37.059963</td>\n",
              "      <td>34.766784</td>\n",
              "      <td>3.689661</td>\n",
              "      <td>1.361272</td>\n",
              "      <td>85.584000</td>\n",
              "      <td>1031.790859</td>\n",
              "      <td>0</td>\n",
              "    </tr>\n",
              "    <tr>\n",
              "      <th>...</th>\n",
              "      <td>...</td>\n",
              "      <td>...</td>\n",
              "      <td>...</td>\n",
              "      <td>...</td>\n",
              "      <td>...</td>\n",
              "      <td>...</td>\n",
              "      <td>...</td>\n",
              "      <td>...</td>\n",
              "      <td>...</td>\n",
              "    </tr>\n",
              "    <tr>\n",
              "      <th>73095</th>\n",
              "      <td>4</td>\n",
              "      <td>Washington D.C.</td>\n",
              "      <td>40.614393</td>\n",
              "      <td>65.099438</td>\n",
              "      <td>28.778327</td>\n",
              "      <td>0.000000</td>\n",
              "      <td>54.168514</td>\n",
              "      <td>977.083747</td>\n",
              "      <td>0</td>\n",
              "    </tr>\n",
              "    <tr>\n",
              "      <th>73096</th>\n",
              "      <td>4</td>\n",
              "      <td>Washington D.C.</td>\n",
              "      <td>52.641643</td>\n",
              "      <td>30.610525</td>\n",
              "      <td>12.282890</td>\n",
              "      <td>0.871000</td>\n",
              "      <td>22.068055</td>\n",
              "      <td>980.591675</td>\n",
              "      <td>0</td>\n",
              "    </tr>\n",
              "    <tr>\n",
              "      <th>73097</th>\n",
              "      <td>4</td>\n",
              "      <td>Washington D.C.</td>\n",
              "      <td>56.492591</td>\n",
              "      <td>96.740232</td>\n",
              "      <td>2.894762</td>\n",
              "      <td>1.191956</td>\n",
              "      <td>52.336048</td>\n",
              "      <td>1016.469174</td>\n",
              "      <td>1</td>\n",
              "    </tr>\n",
              "    <tr>\n",
              "      <th>73098</th>\n",
              "      <td>4</td>\n",
              "      <td>Washington D.C.</td>\n",
              "      <td>65.748956</td>\n",
              "      <td>63.900004</td>\n",
              "      <td>24.632400</td>\n",
              "      <td>0.483421</td>\n",
              "      <td>76.785280</td>\n",
              "      <td>1032.396146</td>\n",
              "      <td>1</td>\n",
              "    </tr>\n",
              "    <tr>\n",
              "      <th>73099</th>\n",
              "      <td>4</td>\n",
              "      <td>Washington D.C.</td>\n",
              "      <td>54.648609</td>\n",
              "      <td>80.812021</td>\n",
              "      <td>22.722505</td>\n",
              "      <td>0.151903</td>\n",
              "      <td>19.674960</td>\n",
              "      <td>974.835534</td>\n",
              "      <td>0</td>\n",
              "    </tr>\n",
              "  </tbody>\n",
              "</table>\n",
              "<p>73100 rows × 9 columns</p>\n",
              "</div>\n",
              "    <div class=\"colab-df-buttons\">\n",
              "\n",
              "  <div class=\"colab-df-container\">\n",
              "    <button class=\"colab-df-convert\" onclick=\"convertToInteractive('df-dd2a0c63-6c10-49b7-8eaa-2d361527f60b')\"\n",
              "            title=\"Convert this dataframe to an interactive table.\"\n",
              "            style=\"display:none;\">\n",
              "\n",
              "  <svg xmlns=\"http://www.w3.org/2000/svg\" height=\"24px\" viewBox=\"0 -960 960 960\">\n",
              "    <path d=\"M120-120v-720h720v720H120Zm60-500h600v-160H180v160Zm220 220h160v-160H400v160Zm0 220h160v-160H400v160ZM180-400h160v-160H180v160Zm440 0h160v-160H620v160ZM180-180h160v-160H180v160Zm440 0h160v-160H620v160Z\"/>\n",
              "  </svg>\n",
              "    </button>\n",
              "\n",
              "  <style>\n",
              "    .colab-df-container {\n",
              "      display:flex;\n",
              "      gap: 12px;\n",
              "    }\n",
              "\n",
              "    .colab-df-convert {\n",
              "      background-color: #E8F0FE;\n",
              "      border: none;\n",
              "      border-radius: 50%;\n",
              "      cursor: pointer;\n",
              "      display: none;\n",
              "      fill: #1967D2;\n",
              "      height: 32px;\n",
              "      padding: 0 0 0 0;\n",
              "      width: 32px;\n",
              "    }\n",
              "\n",
              "    .colab-df-convert:hover {\n",
              "      background-color: #E2EBFA;\n",
              "      box-shadow: 0px 1px 2px rgba(60, 64, 67, 0.3), 0px 1px 3px 1px rgba(60, 64, 67, 0.15);\n",
              "      fill: #174EA6;\n",
              "    }\n",
              "\n",
              "    .colab-df-buttons div {\n",
              "      margin-bottom: 4px;\n",
              "    }\n",
              "\n",
              "    [theme=dark] .colab-df-convert {\n",
              "      background-color: #3B4455;\n",
              "      fill: #D2E3FC;\n",
              "    }\n",
              "\n",
              "    [theme=dark] .colab-df-convert:hover {\n",
              "      background-color: #434B5C;\n",
              "      box-shadow: 0px 1px 3px 1px rgba(0, 0, 0, 0.15);\n",
              "      filter: drop-shadow(0px 1px 2px rgba(0, 0, 0, 0.3));\n",
              "      fill: #FFFFFF;\n",
              "    }\n",
              "  </style>\n",
              "\n",
              "    <script>\n",
              "      const buttonEl =\n",
              "        document.querySelector('#df-dd2a0c63-6c10-49b7-8eaa-2d361527f60b button.colab-df-convert');\n",
              "      buttonEl.style.display =\n",
              "        google.colab.kernel.accessAllowed ? 'block' : 'none';\n",
              "\n",
              "      async function convertToInteractive(key) {\n",
              "        const element = document.querySelector('#df-dd2a0c63-6c10-49b7-8eaa-2d361527f60b');\n",
              "        const dataTable =\n",
              "          await google.colab.kernel.invokeFunction('convertToInteractive',\n",
              "                                                    [key], {});\n",
              "        if (!dataTable) return;\n",
              "\n",
              "        const docLinkHtml = 'Like what you see? Visit the ' +\n",
              "          '<a target=\"_blank\" href=https://colab.research.google.com/notebooks/data_table.ipynb>data table notebook</a>'\n",
              "          + ' to learn more about interactive tables.';\n",
              "        element.innerHTML = '';\n",
              "        dataTable['output_type'] = 'display_data';\n",
              "        await google.colab.output.renderOutput(dataTable, element);\n",
              "        const docLink = document.createElement('div');\n",
              "        docLink.innerHTML = docLinkHtml;\n",
              "        element.appendChild(docLink);\n",
              "      }\n",
              "    </script>\n",
              "  </div>\n",
              "\n",
              "\n",
              "<div id=\"df-e4ad804c-5ec3-44ed-a1bf-1686fb5f6c25\">\n",
              "  <button class=\"colab-df-quickchart\" onclick=\"quickchart('df-e4ad804c-5ec3-44ed-a1bf-1686fb5f6c25')\"\n",
              "            title=\"Suggest charts\"\n",
              "            style=\"display:none;\">\n",
              "\n",
              "<svg xmlns=\"http://www.w3.org/2000/svg\" height=\"24px\"viewBox=\"0 0 24 24\"\n",
              "     width=\"24px\">\n",
              "    <g>\n",
              "        <path d=\"M19 3H5c-1.1 0-2 .9-2 2v14c0 1.1.9 2 2 2h14c1.1 0 2-.9 2-2V5c0-1.1-.9-2-2-2zM9 17H7v-7h2v7zm4 0h-2V7h2v10zm4 0h-2v-4h2v4z\"/>\n",
              "    </g>\n",
              "</svg>\n",
              "  </button>\n",
              "\n",
              "<style>\n",
              "  .colab-df-quickchart {\n",
              "      --bg-color: #E8F0FE;\n",
              "      --fill-color: #1967D2;\n",
              "      --hover-bg-color: #E2EBFA;\n",
              "      --hover-fill-color: #174EA6;\n",
              "      --disabled-fill-color: #AAA;\n",
              "      --disabled-bg-color: #DDD;\n",
              "  }\n",
              "\n",
              "  [theme=dark] .colab-df-quickchart {\n",
              "      --bg-color: #3B4455;\n",
              "      --fill-color: #D2E3FC;\n",
              "      --hover-bg-color: #434B5C;\n",
              "      --hover-fill-color: #FFFFFF;\n",
              "      --disabled-bg-color: #3B4455;\n",
              "      --disabled-fill-color: #666;\n",
              "  }\n",
              "\n",
              "  .colab-df-quickchart {\n",
              "    background-color: var(--bg-color);\n",
              "    border: none;\n",
              "    border-radius: 50%;\n",
              "    cursor: pointer;\n",
              "    display: none;\n",
              "    fill: var(--fill-color);\n",
              "    height: 32px;\n",
              "    padding: 0;\n",
              "    width: 32px;\n",
              "  }\n",
              "\n",
              "  .colab-df-quickchart:hover {\n",
              "    background-color: var(--hover-bg-color);\n",
              "    box-shadow: 0 1px 2px rgba(60, 64, 67, 0.3), 0 1px 3px 1px rgba(60, 64, 67, 0.15);\n",
              "    fill: var(--button-hover-fill-color);\n",
              "  }\n",
              "\n",
              "  .colab-df-quickchart-complete:disabled,\n",
              "  .colab-df-quickchart-complete:disabled:hover {\n",
              "    background-color: var(--disabled-bg-color);\n",
              "    fill: var(--disabled-fill-color);\n",
              "    box-shadow: none;\n",
              "  }\n",
              "\n",
              "  .colab-df-spinner {\n",
              "    border: 2px solid var(--fill-color);\n",
              "    border-color: transparent;\n",
              "    border-bottom-color: var(--fill-color);\n",
              "    animation:\n",
              "      spin 1s steps(1) infinite;\n",
              "  }\n",
              "\n",
              "  @keyframes spin {\n",
              "    0% {\n",
              "      border-color: transparent;\n",
              "      border-bottom-color: var(--fill-color);\n",
              "      border-left-color: var(--fill-color);\n",
              "    }\n",
              "    20% {\n",
              "      border-color: transparent;\n",
              "      border-left-color: var(--fill-color);\n",
              "      border-top-color: var(--fill-color);\n",
              "    }\n",
              "    30% {\n",
              "      border-color: transparent;\n",
              "      border-left-color: var(--fill-color);\n",
              "      border-top-color: var(--fill-color);\n",
              "      border-right-color: var(--fill-color);\n",
              "    }\n",
              "    40% {\n",
              "      border-color: transparent;\n",
              "      border-right-color: var(--fill-color);\n",
              "      border-top-color: var(--fill-color);\n",
              "    }\n",
              "    60% {\n",
              "      border-color: transparent;\n",
              "      border-right-color: var(--fill-color);\n",
              "    }\n",
              "    80% {\n",
              "      border-color: transparent;\n",
              "      border-right-color: var(--fill-color);\n",
              "      border-bottom-color: var(--fill-color);\n",
              "    }\n",
              "    90% {\n",
              "      border-color: transparent;\n",
              "      border-bottom-color: var(--fill-color);\n",
              "    }\n",
              "  }\n",
              "</style>\n",
              "\n",
              "  <script>\n",
              "    async function quickchart(key) {\n",
              "      const quickchartButtonEl =\n",
              "        document.querySelector('#' + key + ' button');\n",
              "      quickchartButtonEl.disabled = true;  // To prevent multiple clicks.\n",
              "      quickchartButtonEl.classList.add('colab-df-spinner');\n",
              "      try {\n",
              "        const charts = await google.colab.kernel.invokeFunction(\n",
              "            'suggestCharts', [key], {});\n",
              "      } catch (error) {\n",
              "        console.error('Error during call to suggestCharts:', error);\n",
              "      }\n",
              "      quickchartButtonEl.classList.remove('colab-df-spinner');\n",
              "      quickchartButtonEl.classList.add('colab-df-quickchart-complete');\n",
              "    }\n",
              "    (() => {\n",
              "      let quickchartButtonEl =\n",
              "        document.querySelector('#df-e4ad804c-5ec3-44ed-a1bf-1686fb5f6c25 button');\n",
              "      quickchartButtonEl.style.display =\n",
              "        google.colab.kernel.accessAllowed ? 'block' : 'none';\n",
              "    })();\n",
              "  </script>\n",
              "</div>\n",
              "\n",
              "  <div id=\"id_ea6bd37b-86a1-42e2-a21c-659b3afff12f\">\n",
              "    <style>\n",
              "      .colab-df-generate {\n",
              "        background-color: #E8F0FE;\n",
              "        border: none;\n",
              "        border-radius: 50%;\n",
              "        cursor: pointer;\n",
              "        display: none;\n",
              "        fill: #1967D2;\n",
              "        height: 32px;\n",
              "        padding: 0 0 0 0;\n",
              "        width: 32px;\n",
              "      }\n",
              "\n",
              "      .colab-df-generate:hover {\n",
              "        background-color: #E2EBFA;\n",
              "        box-shadow: 0px 1px 2px rgba(60, 64, 67, 0.3), 0px 1px 3px 1px rgba(60, 64, 67, 0.15);\n",
              "        fill: #174EA6;\n",
              "      }\n",
              "\n",
              "      [theme=dark] .colab-df-generate {\n",
              "        background-color: #3B4455;\n",
              "        fill: #D2E3FC;\n",
              "      }\n",
              "\n",
              "      [theme=dark] .colab-df-generate:hover {\n",
              "        background-color: #434B5C;\n",
              "        box-shadow: 0px 1px 3px 1px rgba(0, 0, 0, 0.15);\n",
              "        filter: drop-shadow(0px 1px 2px rgba(0, 0, 0, 0.3));\n",
              "        fill: #FFFFFF;\n",
              "      }\n",
              "    </style>\n",
              "    <button class=\"colab-df-generate\" onclick=\"generateWithVariable('df')\"\n",
              "            title=\"Generate code using this dataframe.\"\n",
              "            style=\"display:none;\">\n",
              "\n",
              "  <svg xmlns=\"http://www.w3.org/2000/svg\" height=\"24px\"viewBox=\"0 0 24 24\"\n",
              "       width=\"24px\">\n",
              "    <path d=\"M7,19H8.4L18.45,9,17,7.55,7,17.6ZM5,21V16.75L18.45,3.32a2,2,0,0,1,2.83,0l1.4,1.43a1.91,1.91,0,0,1,.58,1.4,1.91,1.91,0,0,1-.58,1.4L9.25,21ZM18.45,9,17,7.55Zm-12,3A5.31,5.31,0,0,0,4.9,8.1,5.31,5.31,0,0,0,1,6.5,5.31,5.31,0,0,0,4.9,4.9,5.31,5.31,0,0,0,6.5,1,5.31,5.31,0,0,0,8.1,4.9,5.31,5.31,0,0,0,12,6.5,5.46,5.46,0,0,0,6.5,12Z\"/>\n",
              "  </svg>\n",
              "    </button>\n",
              "    <script>\n",
              "      (() => {\n",
              "      const buttonEl =\n",
              "        document.querySelector('#id_ea6bd37b-86a1-42e2-a21c-659b3afff12f button.colab-df-generate');\n",
              "      buttonEl.style.display =\n",
              "        google.colab.kernel.accessAllowed ? 'block' : 'none';\n",
              "\n",
              "      buttonEl.onclick = () => {\n",
              "        google.colab.notebook.generateWithVariable('df');\n",
              "      }\n",
              "      })();\n",
              "    </script>\n",
              "  </div>\n",
              "\n",
              "    </div>\n",
              "  </div>\n"
            ],
            "application/vnd.google.colaboratory.intrinsic+json": {
              "type": "dataframe",
              "variable_name": "df",
              "summary": "{\n  \"name\": \"df\",\n  \"rows\": 73100,\n  \"fields\": [\n    {\n      \"column\": \"Date\",\n      \"properties\": {\n        \"dtype\": \"number\",\n        \"std\": 0,\n        \"min\": 1,\n        \"max\": 4,\n        \"num_unique_values\": 4,\n        \"samples\": [\n          2,\n          4,\n          1\n        ],\n        \"semantic_type\": \"\",\n        \"description\": \"\"\n      }\n    },\n    {\n      \"column\": \"Location\",\n      \"properties\": {\n        \"dtype\": \"category\",\n        \"num_unique_values\": 20,\n        \"samples\": [\n          \"New York\",\n          \"Seattle\",\n          \"Charlotte\"\n        ],\n        \"semantic_type\": \"\",\n        \"description\": \"\"\n      }\n    },\n    {\n      \"column\": \"Temperature\",\n      \"properties\": {\n        \"dtype\": \"number\",\n        \"std\": 20.20579318314168,\n        \"min\": 30.000765979038025,\n        \"max\": 99.99739291850362,\n        \"num_unique_values\": 73100,\n        \"samples\": [\n          48.05260679304404,\n          76.40919885555257,\n          35.668015689408456\n        ],\n        \"semantic_type\": \"\",\n        \"description\": \"\"\n      }\n    },\n    {\n      \"column\": \"Humidity\",\n      \"properties\": {\n        \"dtype\": \"number\",\n        \"std\": 23.06611466374718,\n        \"min\": 20.000271627923727,\n        \"max\": 99.99902548161349,\n        \"num_unique_values\": 73100,\n        \"samples\": [\n          60.60317586047113,\n          87.44187071423482,\n          68.05361876211134\n        ],\n        \"semantic_type\": \"\",\n        \"description\": \"\"\n      }\n    },\n    {\n      \"column\": \"Wind Speed\",\n      \"properties\": {\n        \"dtype\": \"number\",\n        \"std\": 8.668728527005618,\n        \"min\": 0.0007120356851264,\n        \"max\": 29.99901701051202,\n        \"num_unique_values\": 73100,\n        \"samples\": [\n          24.946214117563223,\n          14.162805211121777,\n          18.19559145034996\n        ],\n        \"semantic_type\": \"\",\n        \"description\": \"\"\n      }\n    },\n    {\n      \"column\": \"Precipitation\",\n      \"properties\": {\n        \"dtype\": \"number\",\n        \"std\": 0.4748329537014399,\n        \"min\": 0.0,\n        \"max\": 3.078090164668743,\n        \"num_unique_values\": 44754,\n        \"samples\": [\n          0.0171135622540964,\n          0.1839005049336244,\n          0.0159785475433227\n        ],\n        \"semantic_type\": \"\",\n        \"description\": \"\"\n      }\n    },\n    {\n      \"column\": \"Cloud Cover\",\n      \"properties\": {\n        \"dtype\": \"number\",\n        \"std\": 25.982486828618214,\n        \"min\": 10.000855705288528,\n        \"max\": 99.99895668597291,\n        \"num_unique_values\": 73100,\n        \"samples\": [\n          49.34451241592617,\n          86.57137538926763,\n          31.23348484632364\n        ],\n        \"semantic_type\": \"\",\n        \"description\": \"\"\n      }\n    },\n    {\n      \"column\": \"Pressure\",\n      \"properties\": {\n        \"dtype\": \"number\",\n        \"std\": 20.203888654464386,\n        \"min\": 970.000919106996,\n        \"max\": 1039.999764781251,\n        \"num_unique_values\": 73100,\n        \"samples\": [\n          1020.1334302456954,\n          1018.2838339471753,\n          1020.1166967282662\n        ],\n        \"semantic_type\": \"\",\n        \"description\": \"\"\n      }\n    },\n    {\n      \"column\": \"Rain Tomorrow\",\n      \"properties\": {\n        \"dtype\": \"number\",\n        \"std\": 0,\n        \"min\": 0,\n        \"max\": 1,\n        \"num_unique_values\": 2,\n        \"samples\": [\n          1,\n          0\n        ],\n        \"semantic_type\": \"\",\n        \"description\": \"\"\n      }\n    }\n  ]\n}"
            }
          },
          "metadata": {},
          "execution_count": 4
        }
      ]
    },
    {
      "cell_type": "markdown",
      "source": [
        "Splitting US cities into Zones:\n",
        "\n",
        "2: Cold (high chance of rain)\n",
        "\n",
        "\n",
        "1: Moderate (some chance of rain)\n",
        "\n",
        "0: Hot (low chance of rain)\n"
      ],
      "metadata": {
        "id": "rk0AhXJb7_ru"
      }
    },
    {
      "cell_type": "code",
      "source": [
        "df['Location'].value_counts()\n",
        "location_map = {\n",
        "    'Chicago': 2, 'Denver': 2, 'Indianapolis': 2,\n",
        "    'Philadelphia': 2, 'Washington D.C.': 2, 'New York': 2, 'Seattle': 2,\n",
        "    'Austin': 0, 'Dallas': 0, 'Fort Worth': 0,\n",
        "    'Houston': 0, 'Jacksonville': 0, 'Phoenix': 0, 'San Antonio': 0,\n",
        "    'Charlotte': 1, 'Columbus': 1, 'Los Angeles': 1,\n",
        "    'San Diego': 1, 'San Francisco': 1, 'San Jose': 1\n",
        "}\n",
        "df['Location'] = df['Location'].map(location_map)"
      ],
      "metadata": {
        "id": "dLRLsHzdyT2s"
      },
      "execution_count": 5,
      "outputs": []
    },
    {
      "cell_type": "markdown",
      "source": [
        "Calculating a 'rain score' for each city and time of year"
      ],
      "metadata": {
        "id": "Fa2SKpEK8jA5"
      }
    },
    {
      "cell_type": "code",
      "source": [
        "df['Rain Score'] = (df['Precipitation'] * df['Humidity']) // 2\n",
        "df = df.drop(columns=['Date'])\n",
        "df = df.drop(columns=['Location'])\n",
        "df\n",
        "df['Rain Score']"
      ],
      "metadata": {
        "colab": {
          "base_uri": "https://localhost:8080/",
          "height": 458
        },
        "id": "uLF2MZE6z_a-",
        "outputId": "1058d685-671c-4c6f-ce34-ad67c6053e37"
      },
      "execution_count": 6,
      "outputs": [
        {
          "output_type": "execute_result",
          "data": {
            "text/plain": [
              "0         0.0\n",
              "1         7.0\n",
              "2        29.0\n",
              "3         2.0\n",
              "4        23.0\n",
              "         ... \n",
              "73095     0.0\n",
              "73096    13.0\n",
              "73097    57.0\n",
              "73098    15.0\n",
              "73099     6.0\n",
              "Name: Rain Score, Length: 73100, dtype: float64"
            ],
            "text/html": [
              "<div>\n",
              "<style scoped>\n",
              "    .dataframe tbody tr th:only-of-type {\n",
              "        vertical-align: middle;\n",
              "    }\n",
              "\n",
              "    .dataframe tbody tr th {\n",
              "        vertical-align: top;\n",
              "    }\n",
              "\n",
              "    .dataframe thead th {\n",
              "        text-align: right;\n",
              "    }\n",
              "</style>\n",
              "<table border=\"1\" class=\"dataframe\">\n",
              "  <thead>\n",
              "    <tr style=\"text-align: right;\">\n",
              "      <th></th>\n",
              "      <th>Rain Score</th>\n",
              "    </tr>\n",
              "  </thead>\n",
              "  <tbody>\n",
              "    <tr>\n",
              "      <th>0</th>\n",
              "      <td>0.0</td>\n",
              "    </tr>\n",
              "    <tr>\n",
              "      <th>1</th>\n",
              "      <td>7.0</td>\n",
              "    </tr>\n",
              "    <tr>\n",
              "      <th>2</th>\n",
              "      <td>29.0</td>\n",
              "    </tr>\n",
              "    <tr>\n",
              "      <th>3</th>\n",
              "      <td>2.0</td>\n",
              "    </tr>\n",
              "    <tr>\n",
              "      <th>4</th>\n",
              "      <td>23.0</td>\n",
              "    </tr>\n",
              "    <tr>\n",
              "      <th>...</th>\n",
              "      <td>...</td>\n",
              "    </tr>\n",
              "    <tr>\n",
              "      <th>73095</th>\n",
              "      <td>0.0</td>\n",
              "    </tr>\n",
              "    <tr>\n",
              "      <th>73096</th>\n",
              "      <td>13.0</td>\n",
              "    </tr>\n",
              "    <tr>\n",
              "      <th>73097</th>\n",
              "      <td>57.0</td>\n",
              "    </tr>\n",
              "    <tr>\n",
              "      <th>73098</th>\n",
              "      <td>15.0</td>\n",
              "    </tr>\n",
              "    <tr>\n",
              "      <th>73099</th>\n",
              "      <td>6.0</td>\n",
              "    </tr>\n",
              "  </tbody>\n",
              "</table>\n",
              "<p>73100 rows × 1 columns</p>\n",
              "</div><br><label><b>dtype:</b> float64</label>"
            ]
          },
          "metadata": {},
          "execution_count": 6
        }
      ]
    },
    {
      "cell_type": "code",
      "source": [
        "rain_tmrw = df['Rain Tomorrow']\n",
        "rest = df.drop(columns=['Rain Tomorrow'])\n",
        "rest"
      ],
      "metadata": {
        "colab": {
          "base_uri": "https://localhost:8080/",
          "height": 424
        },
        "id": "dRucVAzSYJIo",
        "outputId": "ca5c2dc2-55f2-4f67-8f6f-29df703cb84f"
      },
      "execution_count": 7,
      "outputs": [
        {
          "output_type": "execute_result",
          "data": {
            "text/plain": [
              "       Temperature   Humidity  Wind Speed  Precipitation  Cloud Cover  \\\n",
              "0        87.524795  75.655455   28.379506       0.000000    69.617966   \n",
              "1        83.259325  28.712617   12.436433       0.526995    41.606048   \n",
              "2        80.943050  64.740043   14.184831       0.916884    77.364763   \n",
              "3        78.097552  59.738984   19.444029       0.094134    52.541196   \n",
              "4        37.059963  34.766784    3.689661       1.361272    85.584000   \n",
              "...            ...        ...         ...            ...          ...   \n",
              "73095    40.614393  65.099438   28.778327       0.000000    54.168514   \n",
              "73096    52.641643  30.610525   12.282890       0.871000    22.068055   \n",
              "73097    56.492591  96.740232    2.894762       1.191956    52.336048   \n",
              "73098    65.748956  63.900004   24.632400       0.483421    76.785280   \n",
              "73099    54.648609  80.812021   22.722505       0.151903    19.674960   \n",
              "\n",
              "          Pressure  Rain Score  \n",
              "0      1026.030278         0.0  \n",
              "1       995.962065         7.0  \n",
              "2       980.796739        29.0  \n",
              "3       979.012163         2.0  \n",
              "4      1031.790859        23.0  \n",
              "...            ...         ...  \n",
              "73095   977.083747         0.0  \n",
              "73096   980.591675        13.0  \n",
              "73097  1016.469174        57.0  \n",
              "73098  1032.396146        15.0  \n",
              "73099   974.835534         6.0  \n",
              "\n",
              "[73100 rows x 7 columns]"
            ],
            "text/html": [
              "\n",
              "  <div id=\"df-25ca2595-69aa-42d2-97bb-7b14818875d3\" class=\"colab-df-container\">\n",
              "    <div>\n",
              "<style scoped>\n",
              "    .dataframe tbody tr th:only-of-type {\n",
              "        vertical-align: middle;\n",
              "    }\n",
              "\n",
              "    .dataframe tbody tr th {\n",
              "        vertical-align: top;\n",
              "    }\n",
              "\n",
              "    .dataframe thead th {\n",
              "        text-align: right;\n",
              "    }\n",
              "</style>\n",
              "<table border=\"1\" class=\"dataframe\">\n",
              "  <thead>\n",
              "    <tr style=\"text-align: right;\">\n",
              "      <th></th>\n",
              "      <th>Temperature</th>\n",
              "      <th>Humidity</th>\n",
              "      <th>Wind Speed</th>\n",
              "      <th>Precipitation</th>\n",
              "      <th>Cloud Cover</th>\n",
              "      <th>Pressure</th>\n",
              "      <th>Rain Score</th>\n",
              "    </tr>\n",
              "  </thead>\n",
              "  <tbody>\n",
              "    <tr>\n",
              "      <th>0</th>\n",
              "      <td>87.524795</td>\n",
              "      <td>75.655455</td>\n",
              "      <td>28.379506</td>\n",
              "      <td>0.000000</td>\n",
              "      <td>69.617966</td>\n",
              "      <td>1026.030278</td>\n",
              "      <td>0.0</td>\n",
              "    </tr>\n",
              "    <tr>\n",
              "      <th>1</th>\n",
              "      <td>83.259325</td>\n",
              "      <td>28.712617</td>\n",
              "      <td>12.436433</td>\n",
              "      <td>0.526995</td>\n",
              "      <td>41.606048</td>\n",
              "      <td>995.962065</td>\n",
              "      <td>7.0</td>\n",
              "    </tr>\n",
              "    <tr>\n",
              "      <th>2</th>\n",
              "      <td>80.943050</td>\n",
              "      <td>64.740043</td>\n",
              "      <td>14.184831</td>\n",
              "      <td>0.916884</td>\n",
              "      <td>77.364763</td>\n",
              "      <td>980.796739</td>\n",
              "      <td>29.0</td>\n",
              "    </tr>\n",
              "    <tr>\n",
              "      <th>3</th>\n",
              "      <td>78.097552</td>\n",
              "      <td>59.738984</td>\n",
              "      <td>19.444029</td>\n",
              "      <td>0.094134</td>\n",
              "      <td>52.541196</td>\n",
              "      <td>979.012163</td>\n",
              "      <td>2.0</td>\n",
              "    </tr>\n",
              "    <tr>\n",
              "      <th>4</th>\n",
              "      <td>37.059963</td>\n",
              "      <td>34.766784</td>\n",
              "      <td>3.689661</td>\n",
              "      <td>1.361272</td>\n",
              "      <td>85.584000</td>\n",
              "      <td>1031.790859</td>\n",
              "      <td>23.0</td>\n",
              "    </tr>\n",
              "    <tr>\n",
              "      <th>...</th>\n",
              "      <td>...</td>\n",
              "      <td>...</td>\n",
              "      <td>...</td>\n",
              "      <td>...</td>\n",
              "      <td>...</td>\n",
              "      <td>...</td>\n",
              "      <td>...</td>\n",
              "    </tr>\n",
              "    <tr>\n",
              "      <th>73095</th>\n",
              "      <td>40.614393</td>\n",
              "      <td>65.099438</td>\n",
              "      <td>28.778327</td>\n",
              "      <td>0.000000</td>\n",
              "      <td>54.168514</td>\n",
              "      <td>977.083747</td>\n",
              "      <td>0.0</td>\n",
              "    </tr>\n",
              "    <tr>\n",
              "      <th>73096</th>\n",
              "      <td>52.641643</td>\n",
              "      <td>30.610525</td>\n",
              "      <td>12.282890</td>\n",
              "      <td>0.871000</td>\n",
              "      <td>22.068055</td>\n",
              "      <td>980.591675</td>\n",
              "      <td>13.0</td>\n",
              "    </tr>\n",
              "    <tr>\n",
              "      <th>73097</th>\n",
              "      <td>56.492591</td>\n",
              "      <td>96.740232</td>\n",
              "      <td>2.894762</td>\n",
              "      <td>1.191956</td>\n",
              "      <td>52.336048</td>\n",
              "      <td>1016.469174</td>\n",
              "      <td>57.0</td>\n",
              "    </tr>\n",
              "    <tr>\n",
              "      <th>73098</th>\n",
              "      <td>65.748956</td>\n",
              "      <td>63.900004</td>\n",
              "      <td>24.632400</td>\n",
              "      <td>0.483421</td>\n",
              "      <td>76.785280</td>\n",
              "      <td>1032.396146</td>\n",
              "      <td>15.0</td>\n",
              "    </tr>\n",
              "    <tr>\n",
              "      <th>73099</th>\n",
              "      <td>54.648609</td>\n",
              "      <td>80.812021</td>\n",
              "      <td>22.722505</td>\n",
              "      <td>0.151903</td>\n",
              "      <td>19.674960</td>\n",
              "      <td>974.835534</td>\n",
              "      <td>6.0</td>\n",
              "    </tr>\n",
              "  </tbody>\n",
              "</table>\n",
              "<p>73100 rows × 7 columns</p>\n",
              "</div>\n",
              "    <div class=\"colab-df-buttons\">\n",
              "\n",
              "  <div class=\"colab-df-container\">\n",
              "    <button class=\"colab-df-convert\" onclick=\"convertToInteractive('df-25ca2595-69aa-42d2-97bb-7b14818875d3')\"\n",
              "            title=\"Convert this dataframe to an interactive table.\"\n",
              "            style=\"display:none;\">\n",
              "\n",
              "  <svg xmlns=\"http://www.w3.org/2000/svg\" height=\"24px\" viewBox=\"0 -960 960 960\">\n",
              "    <path d=\"M120-120v-720h720v720H120Zm60-500h600v-160H180v160Zm220 220h160v-160H400v160Zm0 220h160v-160H400v160ZM180-400h160v-160H180v160Zm440 0h160v-160H620v160ZM180-180h160v-160H180v160Zm440 0h160v-160H620v160Z\"/>\n",
              "  </svg>\n",
              "    </button>\n",
              "\n",
              "  <style>\n",
              "    .colab-df-container {\n",
              "      display:flex;\n",
              "      gap: 12px;\n",
              "    }\n",
              "\n",
              "    .colab-df-convert {\n",
              "      background-color: #E8F0FE;\n",
              "      border: none;\n",
              "      border-radius: 50%;\n",
              "      cursor: pointer;\n",
              "      display: none;\n",
              "      fill: #1967D2;\n",
              "      height: 32px;\n",
              "      padding: 0 0 0 0;\n",
              "      width: 32px;\n",
              "    }\n",
              "\n",
              "    .colab-df-convert:hover {\n",
              "      background-color: #E2EBFA;\n",
              "      box-shadow: 0px 1px 2px rgba(60, 64, 67, 0.3), 0px 1px 3px 1px rgba(60, 64, 67, 0.15);\n",
              "      fill: #174EA6;\n",
              "    }\n",
              "\n",
              "    .colab-df-buttons div {\n",
              "      margin-bottom: 4px;\n",
              "    }\n",
              "\n",
              "    [theme=dark] .colab-df-convert {\n",
              "      background-color: #3B4455;\n",
              "      fill: #D2E3FC;\n",
              "    }\n",
              "\n",
              "    [theme=dark] .colab-df-convert:hover {\n",
              "      background-color: #434B5C;\n",
              "      box-shadow: 0px 1px 3px 1px rgba(0, 0, 0, 0.15);\n",
              "      filter: drop-shadow(0px 1px 2px rgba(0, 0, 0, 0.3));\n",
              "      fill: #FFFFFF;\n",
              "    }\n",
              "  </style>\n",
              "\n",
              "    <script>\n",
              "      const buttonEl =\n",
              "        document.querySelector('#df-25ca2595-69aa-42d2-97bb-7b14818875d3 button.colab-df-convert');\n",
              "      buttonEl.style.display =\n",
              "        google.colab.kernel.accessAllowed ? 'block' : 'none';\n",
              "\n",
              "      async function convertToInteractive(key) {\n",
              "        const element = document.querySelector('#df-25ca2595-69aa-42d2-97bb-7b14818875d3');\n",
              "        const dataTable =\n",
              "          await google.colab.kernel.invokeFunction('convertToInteractive',\n",
              "                                                    [key], {});\n",
              "        if (!dataTable) return;\n",
              "\n",
              "        const docLinkHtml = 'Like what you see? Visit the ' +\n",
              "          '<a target=\"_blank\" href=https://colab.research.google.com/notebooks/data_table.ipynb>data table notebook</a>'\n",
              "          + ' to learn more about interactive tables.';\n",
              "        element.innerHTML = '';\n",
              "        dataTable['output_type'] = 'display_data';\n",
              "        await google.colab.output.renderOutput(dataTable, element);\n",
              "        const docLink = document.createElement('div');\n",
              "        docLink.innerHTML = docLinkHtml;\n",
              "        element.appendChild(docLink);\n",
              "      }\n",
              "    </script>\n",
              "  </div>\n",
              "\n",
              "\n",
              "<div id=\"df-1dbe470d-a7ff-4341-9f1b-2d847b3ff577\">\n",
              "  <button class=\"colab-df-quickchart\" onclick=\"quickchart('df-1dbe470d-a7ff-4341-9f1b-2d847b3ff577')\"\n",
              "            title=\"Suggest charts\"\n",
              "            style=\"display:none;\">\n",
              "\n",
              "<svg xmlns=\"http://www.w3.org/2000/svg\" height=\"24px\"viewBox=\"0 0 24 24\"\n",
              "     width=\"24px\">\n",
              "    <g>\n",
              "        <path d=\"M19 3H5c-1.1 0-2 .9-2 2v14c0 1.1.9 2 2 2h14c1.1 0 2-.9 2-2V5c0-1.1-.9-2-2-2zM9 17H7v-7h2v7zm4 0h-2V7h2v10zm4 0h-2v-4h2v4z\"/>\n",
              "    </g>\n",
              "</svg>\n",
              "  </button>\n",
              "\n",
              "<style>\n",
              "  .colab-df-quickchart {\n",
              "      --bg-color: #E8F0FE;\n",
              "      --fill-color: #1967D2;\n",
              "      --hover-bg-color: #E2EBFA;\n",
              "      --hover-fill-color: #174EA6;\n",
              "      --disabled-fill-color: #AAA;\n",
              "      --disabled-bg-color: #DDD;\n",
              "  }\n",
              "\n",
              "  [theme=dark] .colab-df-quickchart {\n",
              "      --bg-color: #3B4455;\n",
              "      --fill-color: #D2E3FC;\n",
              "      --hover-bg-color: #434B5C;\n",
              "      --hover-fill-color: #FFFFFF;\n",
              "      --disabled-bg-color: #3B4455;\n",
              "      --disabled-fill-color: #666;\n",
              "  }\n",
              "\n",
              "  .colab-df-quickchart {\n",
              "    background-color: var(--bg-color);\n",
              "    border: none;\n",
              "    border-radius: 50%;\n",
              "    cursor: pointer;\n",
              "    display: none;\n",
              "    fill: var(--fill-color);\n",
              "    height: 32px;\n",
              "    padding: 0;\n",
              "    width: 32px;\n",
              "  }\n",
              "\n",
              "  .colab-df-quickchart:hover {\n",
              "    background-color: var(--hover-bg-color);\n",
              "    box-shadow: 0 1px 2px rgba(60, 64, 67, 0.3), 0 1px 3px 1px rgba(60, 64, 67, 0.15);\n",
              "    fill: var(--button-hover-fill-color);\n",
              "  }\n",
              "\n",
              "  .colab-df-quickchart-complete:disabled,\n",
              "  .colab-df-quickchart-complete:disabled:hover {\n",
              "    background-color: var(--disabled-bg-color);\n",
              "    fill: var(--disabled-fill-color);\n",
              "    box-shadow: none;\n",
              "  }\n",
              "\n",
              "  .colab-df-spinner {\n",
              "    border: 2px solid var(--fill-color);\n",
              "    border-color: transparent;\n",
              "    border-bottom-color: var(--fill-color);\n",
              "    animation:\n",
              "      spin 1s steps(1) infinite;\n",
              "  }\n",
              "\n",
              "  @keyframes spin {\n",
              "    0% {\n",
              "      border-color: transparent;\n",
              "      border-bottom-color: var(--fill-color);\n",
              "      border-left-color: var(--fill-color);\n",
              "    }\n",
              "    20% {\n",
              "      border-color: transparent;\n",
              "      border-left-color: var(--fill-color);\n",
              "      border-top-color: var(--fill-color);\n",
              "    }\n",
              "    30% {\n",
              "      border-color: transparent;\n",
              "      border-left-color: var(--fill-color);\n",
              "      border-top-color: var(--fill-color);\n",
              "      border-right-color: var(--fill-color);\n",
              "    }\n",
              "    40% {\n",
              "      border-color: transparent;\n",
              "      border-right-color: var(--fill-color);\n",
              "      border-top-color: var(--fill-color);\n",
              "    }\n",
              "    60% {\n",
              "      border-color: transparent;\n",
              "      border-right-color: var(--fill-color);\n",
              "    }\n",
              "    80% {\n",
              "      border-color: transparent;\n",
              "      border-right-color: var(--fill-color);\n",
              "      border-bottom-color: var(--fill-color);\n",
              "    }\n",
              "    90% {\n",
              "      border-color: transparent;\n",
              "      border-bottom-color: var(--fill-color);\n",
              "    }\n",
              "  }\n",
              "</style>\n",
              "\n",
              "  <script>\n",
              "    async function quickchart(key) {\n",
              "      const quickchartButtonEl =\n",
              "        document.querySelector('#' + key + ' button');\n",
              "      quickchartButtonEl.disabled = true;  // To prevent multiple clicks.\n",
              "      quickchartButtonEl.classList.add('colab-df-spinner');\n",
              "      try {\n",
              "        const charts = await google.colab.kernel.invokeFunction(\n",
              "            'suggestCharts', [key], {});\n",
              "      } catch (error) {\n",
              "        console.error('Error during call to suggestCharts:', error);\n",
              "      }\n",
              "      quickchartButtonEl.classList.remove('colab-df-spinner');\n",
              "      quickchartButtonEl.classList.add('colab-df-quickchart-complete');\n",
              "    }\n",
              "    (() => {\n",
              "      let quickchartButtonEl =\n",
              "        document.querySelector('#df-1dbe470d-a7ff-4341-9f1b-2d847b3ff577 button');\n",
              "      quickchartButtonEl.style.display =\n",
              "        google.colab.kernel.accessAllowed ? 'block' : 'none';\n",
              "    })();\n",
              "  </script>\n",
              "</div>\n",
              "\n",
              "  <div id=\"id_5147ff37-1865-4378-a29c-58f8be81fabc\">\n",
              "    <style>\n",
              "      .colab-df-generate {\n",
              "        background-color: #E8F0FE;\n",
              "        border: none;\n",
              "        border-radius: 50%;\n",
              "        cursor: pointer;\n",
              "        display: none;\n",
              "        fill: #1967D2;\n",
              "        height: 32px;\n",
              "        padding: 0 0 0 0;\n",
              "        width: 32px;\n",
              "      }\n",
              "\n",
              "      .colab-df-generate:hover {\n",
              "        background-color: #E2EBFA;\n",
              "        box-shadow: 0px 1px 2px rgba(60, 64, 67, 0.3), 0px 1px 3px 1px rgba(60, 64, 67, 0.15);\n",
              "        fill: #174EA6;\n",
              "      }\n",
              "\n",
              "      [theme=dark] .colab-df-generate {\n",
              "        background-color: #3B4455;\n",
              "        fill: #D2E3FC;\n",
              "      }\n",
              "\n",
              "      [theme=dark] .colab-df-generate:hover {\n",
              "        background-color: #434B5C;\n",
              "        box-shadow: 0px 1px 3px 1px rgba(0, 0, 0, 0.15);\n",
              "        filter: drop-shadow(0px 1px 2px rgba(0, 0, 0, 0.3));\n",
              "        fill: #FFFFFF;\n",
              "      }\n",
              "    </style>\n",
              "    <button class=\"colab-df-generate\" onclick=\"generateWithVariable('rest')\"\n",
              "            title=\"Generate code using this dataframe.\"\n",
              "            style=\"display:none;\">\n",
              "\n",
              "  <svg xmlns=\"http://www.w3.org/2000/svg\" height=\"24px\"viewBox=\"0 0 24 24\"\n",
              "       width=\"24px\">\n",
              "    <path d=\"M7,19H8.4L18.45,9,17,7.55,7,17.6ZM5,21V16.75L18.45,3.32a2,2,0,0,1,2.83,0l1.4,1.43a1.91,1.91,0,0,1,.58,1.4,1.91,1.91,0,0,1-.58,1.4L9.25,21ZM18.45,9,17,7.55Zm-12,3A5.31,5.31,0,0,0,4.9,8.1,5.31,5.31,0,0,0,1,6.5,5.31,5.31,0,0,0,4.9,4.9,5.31,5.31,0,0,0,6.5,1,5.31,5.31,0,0,0,8.1,4.9,5.31,5.31,0,0,0,12,6.5,5.46,5.46,0,0,0,6.5,12Z\"/>\n",
              "  </svg>\n",
              "    </button>\n",
              "    <script>\n",
              "      (() => {\n",
              "      const buttonEl =\n",
              "        document.querySelector('#id_5147ff37-1865-4378-a29c-58f8be81fabc button.colab-df-generate');\n",
              "      buttonEl.style.display =\n",
              "        google.colab.kernel.accessAllowed ? 'block' : 'none';\n",
              "\n",
              "      buttonEl.onclick = () => {\n",
              "        google.colab.notebook.generateWithVariable('rest');\n",
              "      }\n",
              "      })();\n",
              "    </script>\n",
              "  </div>\n",
              "\n",
              "    </div>\n",
              "  </div>\n"
            ],
            "application/vnd.google.colaboratory.intrinsic+json": {
              "type": "dataframe",
              "variable_name": "rest",
              "summary": "{\n  \"name\": \"rest\",\n  \"rows\": 73100,\n  \"fields\": [\n    {\n      \"column\": \"Temperature\",\n      \"properties\": {\n        \"dtype\": \"number\",\n        \"std\": 20.20579318314168,\n        \"min\": 30.000765979038025,\n        \"max\": 99.99739291850362,\n        \"num_unique_values\": 73100,\n        \"samples\": [\n          48.05260679304404,\n          76.40919885555257,\n          35.668015689408456\n        ],\n        \"semantic_type\": \"\",\n        \"description\": \"\"\n      }\n    },\n    {\n      \"column\": \"Humidity\",\n      \"properties\": {\n        \"dtype\": \"number\",\n        \"std\": 23.06611466374718,\n        \"min\": 20.000271627923727,\n        \"max\": 99.99902548161349,\n        \"num_unique_values\": 73100,\n        \"samples\": [\n          60.60317586047113,\n          87.44187071423482,\n          68.05361876211134\n        ],\n        \"semantic_type\": \"\",\n        \"description\": \"\"\n      }\n    },\n    {\n      \"column\": \"Wind Speed\",\n      \"properties\": {\n        \"dtype\": \"number\",\n        \"std\": 8.668728527005618,\n        \"min\": 0.0007120356851264,\n        \"max\": 29.99901701051202,\n        \"num_unique_values\": 73100,\n        \"samples\": [\n          24.946214117563223,\n          14.162805211121777,\n          18.19559145034996\n        ],\n        \"semantic_type\": \"\",\n        \"description\": \"\"\n      }\n    },\n    {\n      \"column\": \"Precipitation\",\n      \"properties\": {\n        \"dtype\": \"number\",\n        \"std\": 0.4748329537014399,\n        \"min\": 0.0,\n        \"max\": 3.078090164668743,\n        \"num_unique_values\": 44754,\n        \"samples\": [\n          0.0171135622540964,\n          0.1839005049336244,\n          0.0159785475433227\n        ],\n        \"semantic_type\": \"\",\n        \"description\": \"\"\n      }\n    },\n    {\n      \"column\": \"Cloud Cover\",\n      \"properties\": {\n        \"dtype\": \"number\",\n        \"std\": 25.982486828618214,\n        \"min\": 10.000855705288528,\n        \"max\": 99.99895668597291,\n        \"num_unique_values\": 73100,\n        \"samples\": [\n          49.34451241592617,\n          86.57137538926763,\n          31.23348484632364\n        ],\n        \"semantic_type\": \"\",\n        \"description\": \"\"\n      }\n    },\n    {\n      \"column\": \"Pressure\",\n      \"properties\": {\n        \"dtype\": \"number\",\n        \"std\": 20.203888654464386,\n        \"min\": 970.000919106996,\n        \"max\": 1039.999764781251,\n        \"num_unique_values\": 73100,\n        \"samples\": [\n          1020.1334302456954,\n          1018.2838339471753,\n          1020.1166967282662\n        ],\n        \"semantic_type\": \"\",\n        \"description\": \"\"\n      }\n    },\n    {\n      \"column\": \"Rain Score\",\n      \"properties\": {\n        \"dtype\": \"number\",\n        \"std\": 15.768533908661077,\n        \"min\": 0.0,\n        \"max\": 124.0,\n        \"num_unique_values\": 115,\n        \"samples\": [\n          78.0,\n          23.0,\n          34.0\n        ],\n        \"semantic_type\": \"\",\n        \"description\": \"\"\n      }\n    }\n  ]\n}"
            }
          },
          "metadata": {},
          "execution_count": 7
        }
      ]
    },
    {
      "cell_type": "code",
      "source": [
        "import seaborn as sns\n",
        "import matplotlib.pyplot as plt\n",
        "\n",
        "corr = df.corr()\n",
        "sns.heatmap(corr, annot=True, cmap='coolwarm', fmt='.2f')\n",
        "plt.title('Correlating Features to Target')\n",
        "plt.xlabel(\"Rain Tomorrow\")\n",
        "plt.ylabel(\"Features\")\n",
        "plt.show()"
      ],
      "metadata": {
        "id": "6fXxgxlpfT9Q",
        "colab": {
          "base_uri": "https://localhost:8080/",
          "height": 560
        },
        "outputId": "e224d455-e235-469e-faba-faabf7caaa8b"
      },
      "execution_count": 8,
      "outputs": [
        {
          "output_type": "display_data",
          "data": {
            "text/plain": [
              "<Figure size 640x480 with 2 Axes>"
            ],
            "image/png": "[encoded data removed]"
          },
          "metadata": {}
        }
      ]
    },
    {
      "cell_type": "markdown",
      "source": [
        "# Logistic Regression"
      ],
      "metadata": {
        "id": "jQrsUEDsgvvh"
      }
    },
    {
      "cell_type": "code",
      "source": [
        "from sklearn.model_selection import train_test_split\n",
        "rest_train, rest_test, rain_tmrw_train, rain_tmrw_test = train_test_split(rest, rain_tmrw, test_size=0.2, random_state=100)"
      ],
      "metadata": {
        "id": "tQ6B9RhPtvlp"
      },
      "execution_count": 9,
      "outputs": []
    },
    {
      "cell_type": "code",
      "source": [
        "from sklearn.linear_model import LogisticRegression, SGDClassifier, SGDRegressor\n",
        "from sklearn.metrics import accuracy_score, f1_score, log_loss, recall_score, confusion_matrix, precision_score, classification_report\n",
        "model = LogisticRegression(class_weight={0:1, 1:2}, solver=\"liblinear\")\n",
        "model.fit(rest_train, rain_tmrw_train)\n",
        "pred = model.predict(rest_test)"
      ],
      "metadata": {
        "id": "FdFb7jujhXTC"
      },
      "execution_count": 10,
      "outputs": []
    },
    {
      "cell_type": "markdown",
      "source": [
        "F1-Score"
      ],
      "metadata": {
        "id": "PX6F_U7o8UWC"
      }
    },
    {
      "cell_type": "code",
      "source": [
        "f1_score(pred, rain_tmrw_test)"
      ],
      "metadata": {
        "colab": {
          "base_uri": "https://localhost:8080/"
        },
        "id": "vowlnNSG1bbX",
        "outputId": "ce2843d9-06bf-4257-873c-a32ee5a21e81"
      },
      "execution_count": 11,
      "outputs": [
        {
          "output_type": "execute_result",
          "data": {
            "text/plain": [
              "0.9144856968959221"
            ]
          },
          "metadata": {},
          "execution_count": 11
        }
      ]
    },
    {
      "cell_type": "markdown",
      "source": [
        "Accuracy Score"
      ],
      "metadata": {
        "id": "Jz0HLPps8aCn"
      }
    },
    {
      "cell_type": "code",
      "source": [
        "accuracy_score(pred, rain_tmrw_test)"
      ],
      "metadata": {
        "id": "ljOKyzLOhgV4",
        "colab": {
          "base_uri": "https://localhost:8080/"
        },
        "outputId": "b79f6c04-6c61-40bc-b251-2f2b36b8107e"
      },
      "execution_count": 12,
      "outputs": [
        {
          "output_type": "execute_result",
          "data": {
            "text/plain": [
              "0.9615595075239398"
            ]
          },
          "metadata": {},
          "execution_count": 12
        }
      ]
    },
    {
      "cell_type": "markdown",
      "source": [
        "Log Loss"
      ],
      "metadata": {
        "id": "YSTdD2ZU8bzX"
      }
    },
    {
      "cell_type": "code",
      "source": [
        "log_loss(rain_tmrw_test, model.predict_proba(rest_test)[:, 1])"
      ],
      "metadata": {
        "colab": {
          "base_uri": "https://localhost:8080/"
        },
        "id": "MA-0qeECyY98",
        "outputId": "506f4676-921b-4bf5-c5ab-eb58d73c81ef"
      },
      "execution_count": 13,
      "outputs": [
        {
          "output_type": "execute_result",
          "data": {
            "text/plain": [
              "0.09671751140319378"
            ]
          },
          "metadata": {},
          "execution_count": 13
        }
      ]
    },
    {
      "cell_type": "markdown",
      "source": [
        "Confusion Matrix"
      ],
      "metadata": {
        "id": "0Nxzv0eC8c-o"
      }
    },
    {
      "cell_type": "code",
      "source": [
        "con = confusion_matrix(rain_tmrw_test, pred)\n",
        "\n",
        "sns.heatmap(con, annot=True, cmap='coolwarm', fmt='.2f')\n",
        "plt.title('Confusion Matrix')\n",
        "\n",
        "plt.show()"
      ],
      "metadata": {
        "id": "IV8Z10Chyh8n",
        "colab": {
          "base_uri": "https://localhost:8080/",
          "height": 452
        },
        "outputId": "3ae08bcd-e7ce-4250-d90d-69dae17c968e"
      },
      "execution_count": 14,
      "outputs": [
        {
          "output_type": "display_data",
          "data": {
            "text/plain": [
              "<Figure size 640x480 with 2 Axes>"
            ],
            "image/png": "[encoded data removed]"
          },
          "metadata": {}
        }
      ]
    },
    {
      "cell_type": "markdown",
      "source": [
        "Precision Score from Correlation Matrix\n",
        "\n",
        "$$ Precision = \\frac{True \\space Positive}{True \\space Positive + False \\space Positive} ≈ 93\\% $$"
      ],
      "metadata": {
        "id": "D9rhTPoaGxxv"
      }
    },
    {
      "cell_type": "code",
      "source": [
        "con[1][1] / (con[1][1] + con[1][0]) * 100"
      ],
      "metadata": {
        "colab": {
          "base_uri": "https://localhost:8080/"
        },
        "id": "mJx-mjh1GRVq",
        "outputId": "d3cd1ad5-6072-43d7-d44f-f5dca96c2bbd"
      },
      "execution_count": 15,
      "outputs": [
        {
          "output_type": "execute_result",
          "data": {
            "text/plain": [
              "92.91898577612864"
            ]
          },
          "metadata": {},
          "execution_count": 15
        }
      ]
    },
    {
      "cell_type": "markdown",
      "source": [
        "Classification Report"
      ],
      "metadata": {
        "id": "n4P4Xxm58hqG"
      }
    },
    {
      "cell_type": "code",
      "source": [
        "print(classification_report(pred, rain_tmrw_test))"
      ],
      "metadata": {
        "colab": {
          "base_uri": "https://localhost:8080/"
        },
        "id": "svmTYv8H19T2",
        "outputId": "8b6f8eaf-9206-4be8-f1d6-2058da51c80d"
      },
      "execution_count": 16,
      "outputs": [
        {
          "output_type": "stream",
          "name": "stdout",
          "text": [
            "              precision    recall  f1-score   support\n",
            "\n",
            "           0       0.97      0.98      0.98     11282\n",
            "           1       0.93      0.90      0.91      3338\n",
            "\n",
            "    accuracy                           0.96     14620\n",
            "   macro avg       0.95      0.94      0.94     14620\n",
            "weighted avg       0.96      0.96      0.96     14620\n",
            "\n"
          ]
        }
      ]
    },
    {
      "cell_type": "markdown",
      "source": [
        "Feature Importance"
      ],
      "metadata": {
        "id": "MTAILwQA8jJ9"
      }
    },
    {
      "cell_type": "code",
      "source": [
        "import numpy as np\n",
        "coefficients = model.coef_[0]\n",
        "feature_importance = np.abs(coefficients)\n",
        "for feature, importance in zip(rest.columns, feature_importance):\n",
        "    print(f\"{feature}: {importance}\")"
      ],
      "metadata": {
        "colab": {
          "base_uri": "https://localhost:8080/"
        },
        "id": "qmSxkfLx2H1Q",
        "outputId": "7ac5566e-85dd-40d0-db2a-527bac0ac7ac"
      },
      "execution_count": 17,
      "outputs": [
        {
          "output_type": "stream",
          "name": "stdout",
          "text": [
            "Temperature: 0.0005514024360997922\n",
            "Humidity: 0.0279220806093962\n",
            "Wind Speed: 0.0023675634623378542\n",
            "Precipitation: 31.35167151382728\n",
            "Cloud Cover: 3.148503461527753e-05\n",
            "Pressure: 0.0007262600994109811\n",
            "Rain Score: 1.2574556096862126\n"
          ]
        }
      ]
    },
    {
      "cell_type": "code",
      "source": [],
      "metadata": {
        "id": "m-zH6gRu4aJQ"
      },
      "execution_count": 17,
      "outputs": []
    },
    {
      "cell_type": "code",
      "source": [],
      "metadata": {
        "id": "09tvFMs35mCz"
      },
      "execution_count": 17,
      "outputs": []
    },
    {
      "cell_type": "code",
      "source": [],
      "metadata": {
        "id": "CTl2lpXi5r-a"
      },
      "execution_count": 17,
      "outputs": []
    },
    {
      "cell_type": "markdown",
      "source": [
        "# Saving Model"
      ],
      "metadata": {
        "id": "oay8PXFj90kJ"
      }
    },
    {
      "cell_type": "code",
      "source": [],
      "metadata": {
        "colab": {
          "base_uri": "https://localhost:8080/"
        },
        "id": "YbTXarlt92Vc",
        "outputId": "0c614070-b0b9-449e-fbb1-30917529b8b7"
      },
      "execution_count": 1,
      "outputs": [
        {
          "output_type": "stream",
          "name": "stdout",
          "text": [
            "Requirement already satisfied: joblib in /usr/local/lib/python3.11/dist-packages (1.4.2)\n"
          ]
        }
      ]
    },
    {
      "cell_type": "code",
      "source": [
        "import joblib\n",
        "filename = 'rain_model.joblib'\n",
        "joblib.dump(model, filename)"
      ],
      "metadata": {
        "colab": {
          "base_uri": "https://localhost:8080/"
        },
        "id": "-zR3QPKj94A8",
        "outputId": "e878ea27-28c5-4c76-f1b6-5ba52ebfd65b"
      },
      "execution_count": 18,
      "outputs": [
        {
          "output_type": "execute_result",
          "data": {
            "text/plain": [
              "['rain_model.joblib']"
            ]
          },
          "metadata": {},
          "execution_count": 18
        }
      ]
    },
    {
      "cell_type": "code",
      "source": [],
      "metadata": {
        "id": "XR27LymZ-Q8v"
      },
      "execution_count": null,
      "outputs": []
    }
  ]
}
